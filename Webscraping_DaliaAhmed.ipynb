{
 "cells": [
  {
   "cell_type": "code",
   "execution_count": 125,
   "metadata": {},
   "outputs": [],
   "source": [
    "from bs4 import BeautifulSoup\n",
    "import requests\n",
    "import time\n",
    "import pandas as pd\n",
    "import matplotlib.pyplot as plt"
   ]
  },
  {
   "cell_type": "code",
   "execution_count": 105,
   "metadata": {},
   "outputs": [],
   "source": [
    "def start_request(url):\n",
    "    page=requests.get(url)\n",
    "    return page"
   ]
  },
  {
   "cell_type": "code",
   "execution_count": 106,
   "metadata": {},
   "outputs": [],
   "source": [
    "def get_parser(page):\n",
    "    bs=BeautifulSoup(page.text)\n",
    "    return bs"
   ]
  },
  {
   "cell_type": "code",
   "execution_count": 107,
   "metadata": {},
   "outputs": [],
   "source": [
    "names=[]\n",
    "prices=[]\n",
    "links=[]\n",
    "sold_items=[]"
   ]
  },
  {
   "cell_type": "code",
   "execution_count": 108,
   "metadata": {},
   "outputs": [],
   "source": [
    "def parse(bs):\n",
    "    #parsing title of an item\n",
    "    for name in bs.select('h3.s-item__title'):\n",
    "        if not name.text:\n",
    "            continue\n",
    "        names.append(name.text)\n",
    "    print(len(names))\n",
    "    #parsing price of an item\n",
    "    for price in bs.select('span.s-item__price'):\n",
    "        if 'to' in price.text:\n",
    "            prices.append(float(price.text.split('to')[0][1:]))\n",
    "        elif ',' in price.text:\n",
    "            prices.append(float(price.text.split(',')[0][1:]+price.text.split(',')[1]))\n",
    "        else:\n",
    "            prices.append(float(price.text[1:]))\n",
    "    print(len(prices))\n",
    "    #parsing link to the item\n",
    "    for link in bs.select('div.s-item__info a.s-item__link'):\n",
    "        links.append(link.get('href'))\n",
    "    print(len(links))\n",
    "    iterator=1\n",
    "    #parsing sold items through page of the item \n",
    "    for url in links:\n",
    "        print(f'iterating over page{iterator}')\n",
    "        iterator+=1\n",
    "        r=start_request(url)\n",
    "        soup=get_parser(r)\n",
    "        try:\n",
    "            if soup.find('span',class_='w2b-subhead').text =='Sold':\n",
    "                if ',' in soup.find('span',class_='w2b-head').text:\n",
    "                    sold_items.append(int(soup.find('span',class_='w2b-head').text.split(',')[0]+soup.find('span',class_='w2b-head').text.split(',')[1]))\n",
    "                else:\n",
    "                    sold_items.append(int(soup.find('span',class_='w2b-head').text))\n",
    "                print(soup.find('span',class_='w2b-head').text) \n",
    "            else:\n",
    "                sold_items.append(0)\n",
    "        except:\n",
    "            sold_items.append(0)\n",
    "            continue\n",
    "        time.sleep(1)\n",
    "    print(sold_items)"
   ]
  },
  {
   "cell_type": "code",
   "execution_count": 109,
   "metadata": {},
   "outputs": [],
   "source": [
    "reponse=start_request('https://www.ebay.com/sch/i.html?_from=R40&_trksid=p2334524.m570.l1313&_nkw=watch&_sacat=0&LH_TitleDesc=0&_odkw=gaming+laptop&_sop=12')"
   ]
  },
  {
   "cell_type": "code",
   "execution_count": 110,
   "metadata": {},
   "outputs": [],
   "source": [
    "bs=get_parser(reponse)"
   ]
  },
  {
   "cell_type": "code",
   "execution_count": 111,
   "metadata": {
    "scrolled": false
   },
   "outputs": [
    {
     "name": "stdout",
     "output_type": "stream",
     "text": [
      "63\n",
      "63\n",
      "64\n",
      "iterating over page1\n",
      "iterating over page2\n",
      "1,228\n",
      "iterating over page3\n",
      "iterating over page4\n",
      "84\n",
      "iterating over page5\n",
      "iterating over page6\n",
      "iterating over page7\n",
      "iterating over page8\n",
      "233\n",
      "iterating over page9\n",
      "iterating over page10\n",
      "iterating over page11\n",
      "iterating over page12\n",
      "60\n",
      "iterating over page13\n",
      "iterating over page14\n",
      "iterating over page15\n",
      "iterating over page16\n",
      "27\n",
      "iterating over page17\n",
      "135\n",
      "iterating over page18\n",
      "iterating over page19\n",
      "iterating over page20\n",
      "iterating over page21\n",
      "iterating over page22\n",
      "iterating over page23\n",
      "iterating over page24\n",
      "iterating over page25\n",
      "iterating over page26\n",
      "380\n",
      "iterating over page27\n",
      "iterating over page28\n",
      "iterating over page29\n",
      "iterating over page30\n",
      "iterating over page31\n",
      "iterating over page32\n",
      "iterating over page33\n",
      "iterating over page34\n",
      "iterating over page35\n",
      "iterating over page36\n",
      "100\n",
      "iterating over page37\n",
      "iterating over page38\n",
      "iterating over page39\n",
      "iterating over page40\n",
      "iterating over page41\n",
      "iterating over page42\n",
      "39\n",
      "iterating over page43\n",
      "iterating over page44\n",
      "iterating over page45\n",
      "iterating over page46\n",
      "iterating over page47\n",
      "iterating over page48\n",
      "iterating over page49\n",
      "iterating over page50\n",
      "iterating over page51\n",
      "iterating over page52\n",
      "iterating over page53\n",
      "iterating over page54\n",
      "iterating over page55\n",
      "iterating over page56\n",
      "iterating over page57\n",
      "iterating over page58\n",
      "iterating over page59\n",
      "iterating over page60\n",
      "iterating over page61\n",
      "iterating over page62\n",
      "iterating over page63\n",
      "iterating over page64\n",
      "[0, 1228, 0, 84, 0, 0, 0, 233, 0, 0, 0, 60, 0, 0, 0, 27, 135, 0, 0, 0, 0, 0, 0, 0, 0, 380, 0, 0, 0, 0, 0, 0, 0, 0, 0, 100, 0, 0, 0, 0, 0, 39, 0, 0, 0, 0, 0, 0, 0, 0, 0, 0, 0, 0, 0, 0, 0, 0, 0, 0, 0, 0, 0, 0]\n"
     ]
    }
   ],
   "source": [
    "parse(bs)"
   ]
  },
  {
   "cell_type": "code",
   "execution_count": 112,
   "metadata": {},
   "outputs": [
    {
     "data": {
      "text/plain": [
       "'https://www.ebay.com/itm/134002484738?_trkparms=ispr%3D1&hash=item1f332ba602:g:U5MAAOSwpMFh7EVl&amdata=enc%3AAQAGAAACkPYe5NmHp%252B2JMhMi7yxGiTJkPrKr5t53CooMSQt2orsSHYXPhGXR5uguexJBeHwfgaA1IwxMClW0xlcKQcQNa%252BY0CIp1EEddjbQyF8XX5AsyCZKPIPUGY0bCoog%252FOfcfhsK0LntAA8mOGxb2tcqNcr60UpKG2KYLeUs2r83LFQEredXB4NBmP7d3AEy1%252FI8gGG78EKqPqesWxHnRiuJycVX1Fs2zCPkvaCzcvV2jo53SRfq1gG9xntsdrm5cpue%252B%252Br%252B3bEzjI8lMOd%252FXyusXu5tiYDcjZYR4DE2OR7Qb3GYVmyaduCLeDe5xpx%252FQ%252FR1BvyclThgCka%252Bz13dMs%252FlaaiET4FKhw92jyRiwE9PHgKE%252Fb0%252Bw7f5OKbR8VBAW0DkWdPIUzIWLL%252F4XTrAM%252ByRA3RhrVo9SLpCdxm6xDKjorpwih5sAs9Nw90gwXAUsyhCghn2lE8Vu08Xx3WIvVN5YQr%252FeteQIok72aMoaC9oHf8JMd0MZUCytAG3KtGZOuDhtL%252BPakxgH%252FQaTABEDW6tZSyvpY3AKgZKXjy24sr1gvNViPTHQSGtteOqCsea1nW2kyORfIy4XEddtMkp2XU71e8Ol23aiD4XEsVx0W6V0a%252BI9sVqzFxqIKdjTPumQ520GV1KFk7thPZl4xmtbL4GfOiQLFsXFeuh1k5UdPNSytINI2f37O%252BTz6TnPVhAxhy950RNo7zSwu85mKtaSwcVS53YT%252BlUIsNVMT55QygupEFAV7pHi4FqUIXk6FMkQu%252BO9fWM1qTIjZEcUcLIQ0IccAI5i%252BHUwE9vOnyQyqAQ2G8y0vLOAkU60wzOiDdwKp8ZMkWLi0SRZDtl4Jf4COSOuNkCXfXU9H46JfLDtQTF8S21C%7Cclp%3A2334524%7Ctkp%3ABFBMxK6CjtFf'"
      ]
     },
     "execution_count": 112,
     "metadata": {},
     "output_type": "execute_result"
    }
   ],
   "source": [
    "sold_items.pop()\n",
    "links.pop()"
   ]
  },
  {
   "cell_type": "code",
   "execution_count": 114,
   "metadata": {},
   "outputs": [
    {
     "data": {
      "text/plain": [
       "(63, 63, 63, 63)"
      ]
     },
     "execution_count": 114,
     "metadata": {},
     "output_type": "execute_result"
    }
   ],
   "source": [
    "len(sold_items),len(links),len(names),len(prices)"
   ]
  },
  {
   "cell_type": "code",
   "execution_count": 115,
   "metadata": {},
   "outputs": [],
   "source": [
    "dic=dict()\n",
    "dic['name']=names\n",
    "dic['price']=prices\n",
    "dic['link']=links\n",
    "dic['sold_items']=sold_items"
   ]
  },
  {
   "cell_type": "code",
   "execution_count": 116,
   "metadata": {},
   "outputs": [],
   "source": [
    "df=pd.DataFrame(dic)"
   ]
  },
  {
   "cell_type": "code",
   "execution_count": 118,
   "metadata": {},
   "outputs": [],
   "source": [
    "df.to_csv('output')"
   ]
  },
  {
   "cell_type": "code",
   "execution_count": 120,
   "metadata": {},
   "outputs": [
    {
     "data": {
      "text/html": [
       "<div>\n",
       "<style scoped>\n",
       "    .dataframe tbody tr th:only-of-type {\n",
       "        vertical-align: middle;\n",
       "    }\n",
       "\n",
       "    .dataframe tbody tr th {\n",
       "        vertical-align: top;\n",
       "    }\n",
       "\n",
       "    .dataframe thead th {\n",
       "        text-align: right;\n",
       "    }\n",
       "</style>\n",
       "<table border=\"1\" class=\"dataframe\">\n",
       "  <thead>\n",
       "    <tr style=\"text-align: right;\">\n",
       "      <th></th>\n",
       "      <th>name</th>\n",
       "      <th>price</th>\n",
       "      <th>link</th>\n",
       "      <th>sold_items</th>\n",
       "    </tr>\n",
       "  </thead>\n",
       "  <tbody>\n",
       "    <tr>\n",
       "      <th>5</th>\n",
       "      <td>Casio Illuminator Sports Watch</td>\n",
       "      <td>9.22</td>\n",
       "      <td>https://www.ebay.com/itm/294750133250?hash=ite...</td>\n",
       "      <td>0</td>\n",
       "    </tr>\n",
       "  </tbody>\n",
       "</table>\n",
       "</div>"
      ],
      "text/plain": [
       "                             name  price  \\\n",
       "5  Casio Illuminator Sports Watch   9.22   \n",
       "\n",
       "                                                link  sold_items  \n",
       "5  https://www.ebay.com/itm/294750133250?hash=ite...           0  "
      ]
     },
     "execution_count": 120,
     "metadata": {},
     "output_type": "execute_result"
    }
   ],
   "source": [
    "df[df['price']==min(df['price'])]"
   ]
  },
  {
   "cell_type": "code",
   "execution_count": 121,
   "metadata": {},
   "outputs": [
    {
     "data": {
      "text/html": [
       "<div>\n",
       "<style scoped>\n",
       "    .dataframe tbody tr th:only-of-type {\n",
       "        vertical-align: middle;\n",
       "    }\n",
       "\n",
       "    .dataframe tbody tr th {\n",
       "        vertical-align: top;\n",
       "    }\n",
       "\n",
       "    .dataframe thead th {\n",
       "        text-align: right;\n",
       "    }\n",
       "</style>\n",
       "<table border=\"1\" class=\"dataframe\">\n",
       "  <thead>\n",
       "    <tr style=\"text-align: right;\">\n",
       "      <th></th>\n",
       "      <th>name</th>\n",
       "      <th>price</th>\n",
       "      <th>link</th>\n",
       "      <th>sold_items</th>\n",
       "    </tr>\n",
       "  </thead>\n",
       "  <tbody>\n",
       "    <tr>\n",
       "      <th>1</th>\n",
       "      <td>Casio Classic F-91W Watch Men Luxury Classic G...</td>\n",
       "      <td>10.0</td>\n",
       "      <td>https://www.ebay.com/itm/172635663886?_trkparm...</td>\n",
       "      <td>1228</td>\n",
       "    </tr>\n",
       "  </tbody>\n",
       "</table>\n",
       "</div>"
      ],
      "text/plain": [
       "                                                name  price  \\\n",
       "1  Casio Classic F-91W Watch Men Luxury Classic G...   10.0   \n",
       "\n",
       "                                                link  sold_items  \n",
       "1  https://www.ebay.com/itm/172635663886?_trkparm...        1228  "
      ]
     },
     "execution_count": 121,
     "metadata": {},
     "output_type": "execute_result"
    }
   ],
   "source": [
    "df[df['sold_items']==max(df['sold_items'])]"
   ]
  },
  {
   "cell_type": "code",
   "execution_count": 130,
   "metadata": {},
   "outputs": [
    {
     "data": {
      "text/html": [
       "<div>\n",
       "<style scoped>\n",
       "    .dataframe tbody tr th:only-of-type {\n",
       "        vertical-align: middle;\n",
       "    }\n",
       "\n",
       "    .dataframe tbody tr th {\n",
       "        vertical-align: top;\n",
       "    }\n",
       "\n",
       "    .dataframe thead th {\n",
       "        text-align: right;\n",
       "    }\n",
       "</style>\n",
       "<table border=\"1\" class=\"dataframe\">\n",
       "  <thead>\n",
       "    <tr style=\"text-align: right;\">\n",
       "      <th></th>\n",
       "      <th>price</th>\n",
       "      <th>sold_items</th>\n",
       "    </tr>\n",
       "  </thead>\n",
       "  <tbody>\n",
       "    <tr>\n",
       "      <th>count</th>\n",
       "      <td>63.000000</td>\n",
       "      <td>63.000000</td>\n",
       "    </tr>\n",
       "    <tr>\n",
       "      <th>mean</th>\n",
       "      <td>295.487302</td>\n",
       "      <td>36.285714</td>\n",
       "    </tr>\n",
       "    <tr>\n",
       "      <th>std</th>\n",
       "      <td>499.974418</td>\n",
       "      <td>163.867317</td>\n",
       "    </tr>\n",
       "    <tr>\n",
       "      <th>min</th>\n",
       "      <td>9.220000</td>\n",
       "      <td>0.000000</td>\n",
       "    </tr>\n",
       "    <tr>\n",
       "      <th>25%</th>\n",
       "      <td>22.530000</td>\n",
       "      <td>0.000000</td>\n",
       "    </tr>\n",
       "    <tr>\n",
       "      <th>50%</th>\n",
       "      <td>78.820000</td>\n",
       "      <td>0.000000</td>\n",
       "    </tr>\n",
       "    <tr>\n",
       "      <th>75%</th>\n",
       "      <td>299.200000</td>\n",
       "      <td>0.000000</td>\n",
       "    </tr>\n",
       "    <tr>\n",
       "      <th>max</th>\n",
       "      <td>2428.200000</td>\n",
       "      <td>1228.000000</td>\n",
       "    </tr>\n",
       "  </tbody>\n",
       "</table>\n",
       "</div>"
      ],
      "text/plain": [
       "             price   sold_items\n",
       "count    63.000000    63.000000\n",
       "mean    295.487302    36.285714\n",
       "std     499.974418   163.867317\n",
       "min       9.220000     0.000000\n",
       "25%      22.530000     0.000000\n",
       "50%      78.820000     0.000000\n",
       "75%     299.200000     0.000000\n",
       "max    2428.200000  1228.000000"
      ]
     },
     "execution_count": 130,
     "metadata": {},
     "output_type": "execute_result"
    }
   ],
   "source": [
    "df.describe()"
   ]
  },
  {
   "cell_type": "markdown",
   "metadata": {},
   "source": [
    "This means that the average price is 295 and the average of sold items is 36"
   ]
  },
  {
   "cell_type": "code",
   "execution_count": 131,
   "metadata": {},
   "outputs": [
    {
     "name": "stdout",
     "output_type": "stream",
     "text": [
      "<class 'pandas.core.frame.DataFrame'>\n",
      "RangeIndex: 63 entries, 0 to 62\n",
      "Data columns (total 4 columns):\n",
      " #   Column      Non-Null Count  Dtype  \n",
      "---  ------      --------------  -----  \n",
      " 0   name        63 non-null     object \n",
      " 1   price       63 non-null     float64\n",
      " 2   link        63 non-null     object \n",
      " 3   sold_items  63 non-null     int64  \n",
      "dtypes: float64(1), int64(1), object(2)\n",
      "memory usage: 2.1+ KB\n"
     ]
    }
   ],
   "source": [
    "df.info()"
   ]
  },
  {
   "cell_type": "markdown",
   "metadata": {},
   "source": [
    "the data has no null type.. price feature is float and sold items is int type"
   ]
  },
  {
   "cell_type": "code",
   "execution_count": 134,
   "metadata": {},
   "outputs": [
    {
     "data": {
      "text/plain": [
       "(array([46.,  6.,  1.,  3.,  4.,  0.,  0.,  2.,  0.,  1.]),\n",
       " array([   9.22 ,  251.118,  493.016,  734.914,  976.812, 1218.71 ,\n",
       "        1460.608, 1702.506, 1944.404, 2186.302, 2428.2  ]),\n",
       " <BarContainer object of 10 artists>)"
      ]
     },
     "execution_count": 134,
     "metadata": {},
     "output_type": "execute_result"
    },
    {
     "data": {
      "image/png": "[encoded data removed]",
      "text/plain": [
       "<Figure size 432x288 with 1 Axes>"
      ]
     },
     "metadata": {
      "needs_background": "light"
     },
     "output_type": "display_data"
    }
   ],
   "source": [
    "plt.hist(df['price'])"
   ]
  },
  {
   "cell_type": "markdown",
   "metadata": {},
   "source": [
    "most prices are in range between 0 and 250"
   ]
  }
 ],
 "metadata": {
  "kernelspec": {
   "display_name": "Python 3",
   "language": "python",
   "name": "python3"
  },
  "language_info": {
   "codemirror_mode": {
    "name": "ipython",
    "version": 3
   },
   "file_extension": ".py",
   "mimetype": "text/x-python",
   "name": "python",
   "nbconvert_exporter": "python",
   "pygments_lexer": "ipython3",
   "version": "3.8.5"
  }
 },
 "nbformat": 4,
 "nbformat_minor": 4
}
